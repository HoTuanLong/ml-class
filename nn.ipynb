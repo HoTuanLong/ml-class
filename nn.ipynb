{
 "cells": [
  {
   "cell_type": "code",
   "execution_count": 1,
   "metadata": {},
   "outputs": [],
   "source": [
    "from sklearn.datasets import load_digits\n",
    "from sklearn.model_selection import train_test_split\n",
    "import numpy as np\n",
    "import matplotlib.pyplot as plt\n",
    "%matplotlib inline"
   ]
  },
  {
   "cell_type": "code",
   "execution_count": 2,
   "metadata": {},
   "outputs": [],
   "source": [
    "class NeuralNet:\n",
    "    def __init__(self, layers):\n",
    "        self.layers = layers\n",
    "        self.n_in, self.n_out = layers[0].n_in, layers[-1].n_out\n",
    "        \n",
    "    def forward(self, x):\n",
    "        out = x\n",
    "        for layer in self.layers:\n",
    "            out = layer.forward(out)\n",
    "        return out\n",
    "\n",
    "    def backward(self, delta):\n",
    "        for layer in self.layers[::-1]:\n",
    "            delta = layer.backward(delta)\n",
    "        return delta\n",
    "    \n",
    "    def gradient_descent(self, alpha, lr):\n",
    "        for layer in self.layers:\n",
    "            layer.gradient_descent(alpha, lr)\n",
    "            \n",
    "    def reset_velocity(self):\n",
    "        for layer in self.layers:\n",
    "            layer.reset_velocity()\n",
    "    \n",
    "class MeanSquareLoss:\n",
    "    def __init__(self):\n",
    "        pass\n",
    "    \n",
    "    def forward(self, ypred, ytrue):\n",
    "        d = ypred-ytrue\n",
    "        n = len(d)\n",
    "        self.diff_cache = d\n",
    "        return 0.5 * np.sum(d*d) / n\n",
    "    \n",
    "    def backward(self):\n",
    "        '''delta: (B, N_neuron)'''\n",
    "        return self.diff_cache / n\n",
    "\n",
    "class CrossEntropyLossFromLogits:\n",
    "    def __init__(self):\n",
    "        pass\n",
    "    \n",
    "    def forward(self, ypred, ytrue):\n",
    "        n = ypred.shape[0]\n",
    "        ex = np.exp(ypred-np.max(ypred))\n",
    "        sum_ex = np.sum(ex, axis=1).reshape((-1,1))\n",
    "        act = ex / sum_ex\n",
    "        \n",
    "        log_act = -np.log(act[range(n), ytrue])\n",
    "        \n",
    "        self.cache = (act.copy(), ytrue)\n",
    "        return np.sum(log_act) / n\n",
    "    \n",
    "    def backward(self):\n",
    "        '''delta: (B, N_neuron)'''\n",
    "        act, ytrue = self.cache\n",
    "        n = act.shape[0]\n",
    "        act[range(n), ytrue] -= 1\n",
    "        return act / n\n",
    "\n",
    "    \n",
    "class LinearLayer:\n",
    "    def __init__(self, n_in, n_out, activation_func=\"identity\"):\n",
    "        self.n_in, self.n_out = n_in, n_out\n",
    "        self.activation_func = activation_func\n",
    "        self.W = np.random.randn(n_out, n_in) / n_in\n",
    "        self.b = np.random.randn(n_out, 1) * 0.0\n",
    "    \n",
    "    def forward(self, x):\n",
    "        net = np.matmul( x, self.W.T ) + self.b.T\n",
    "        if self.activation_func == \"sigmoid\":\n",
    "            act = 1. / (1. + np.exp(-net))\n",
    "        elif self.activation_func == \"relu\":\n",
    "            act = np.maximum(net, 0)\n",
    "        else: # identity\n",
    "            act = net\n",
    "        self.cache = (net, act, x)\n",
    "#         print(\"forward\", net.shape, act.shape, x.shape)\n",
    "        return act\n",
    "    \n",
    "    def backward(self, delta):\n",
    "        net, act, x = self.cache\n",
    "        if self.activation_func == \"sigmoid\":\n",
    "            delta = act * (1-act) * delta\n",
    "        elif self.activation_func == \"relu\":\n",
    "            delta = (net>0) * delta\n",
    "        else: # identity or softmax (cross_entropy loss)\n",
    "            delta = delta\n",
    "        # compute derivative\n",
    "        self.dW = np.matmul(delta.T, x)\n",
    "        self.db = np.sum(delta, axis=0).reshape((-1,1))\n",
    "#         print(\"dshape\", self.dW.shape, self.db.shape, delta.shape)\n",
    "        \n",
    "        delta = np.dot(delta, self.W)\n",
    "        return delta\n",
    "    \n",
    "    def gradient_descent(self, alpha, lr):\n",
    "        self.velW = alpha*self.velW - lr*self.dW # use momentum\n",
    "        self.velb = alpha*self.velb - lr*self.db\n",
    "        self.W += self.velW\n",
    "        self.b += self.velb\n",
    "        \n",
    "    def reset_velocity(self):\n",
    "        self.velW = np.zeros_like(self.W)\n",
    "        self.velb = np.zeros_like(self.b)"
   ]
  },
  {
   "cell_type": "code",
   "execution_count": 3,
   "metadata": {},
   "outputs": [],
   "source": [
    "# def train_net():\n",
    "#     def build_net():\n",
    "#         n1, n2 = 10, 1\n",
    "#         li1 = LinearLayer(n1, n2)\n",
    "#         net = NeuralNet([li1])\n",
    "#         return net\n",
    "\n",
    "#     net = build_net()\n",
    "#     loss_func = MeanSquareLoss()\n",
    "#     batch_size = 100\n",
    "#     alpha, lr = 0.7, 1e-3\n",
    "#     xtr = np.random.randn(batch_size, net.n_in)\n",
    "#     W   = np.random.randn(net.n_out, net.n_in)\n",
    "#     ytr = np.matmul(xtr, W.T)\n",
    "    \n",
    "#     net.reset_velocity()\n",
    "#     history = []\n",
    "#     for epoch in range(1, 1001):\n",
    "#         out  = net.forward(xtr)\n",
    "#         loss = loss_func.forward(out, ytr)\n",
    "        \n",
    "#         delta = loss_func.backward()\n",
    "# #         print(out.shape, delta.shape)\n",
    "#         net.backward(delta)\n",
    "#         net.gradient_descent(alpha, lr)\n",
    "        \n",
    "#         history.append(loss)\n",
    "#         if epoch%100 == 0:\n",
    "#             print(epoch, loss)\n",
    "#     return net, history\n",
    "# net, history = train_net()\n",
    "# plt.plot(history)"
   ]
  },
  {
   "cell_type": "code",
   "execution_count": 11,
   "metadata": {},
   "outputs": [
    {
     "name": "stdout",
     "output_type": "stream",
     "text": [
      "500 0.3050277826436786 0.9027777777777778\n",
      "1000 0.1563303668658966 0.9388888888888889\n",
      "1500 0.1134463188841124 0.9611111111111111\n",
      "2000 0.09133821574555102 0.9638888888888889\n",
      "2500 0.0770523975996002 0.9611111111111111\n",
      "3000 0.06665966162311698 0.9583333333333334\n",
      "3500 0.05855526013985678 0.9611111111111111\n",
      "4000 0.0519792522792979 0.9666666666666667\n",
      "4500 0.04651993624987658 0.9694444444444444\n",
      "5000 0.041912456914813996 0.9694444444444444\n",
      "5500 0.0379685088875216 0.9694444444444444\n",
      "6000 0.03456017838765666 0.9694444444444444\n",
      "6500 0.031615761845686874 0.9694444444444444\n",
      "7000 0.02906161929388536 0.9694444444444444\n",
      "7500 0.026820230555136753 0.9694444444444444\n",
      "8000 0.024842437995577223 0.9666666666666667\n",
      "8500 0.023090253503646633 0.9666666666666667\n",
      "9000 0.021527525606922567 0.9666666666666667\n",
      "9500 0.020130703588195277 0.9666666666666667\n",
      "10000 0.018874668078672257 0.9666666666666667\n"
     ]
    },
    {
     "data": {
      "text/plain": [
       "[<matplotlib.lines.Line2D at 0x1c0fb26a288>]"
      ]
     },
     "execution_count": 11,
     "metadata": {},
     "output_type": "execute_result"
    },
    {
     "data": {
      "image/png": "[encoded data removed]",
      "text/plain": [
       "<Figure size 432x288 with 1 Axes>"
      ]
     },
     "metadata": {
      "needs_background": "light"
     },
     "output_type": "display_data"
    }
   ],
   "source": [
    "def train_net():\n",
    "    def build_net():\n",
    "        n1, n2, n3 = 64, 32, 10\n",
    "        li1 = LinearLayer(n1, n2, activation_func=\"relu\")\n",
    "        li2 = LinearLayer(n2, n3, activation_func=\"identity\")\n",
    "        net = NeuralNet([li1, li2])\n",
    "        return net\n",
    "\n",
    "    net = build_net()\n",
    "    loss_func = CrossEntropyLossFromLogits()\n",
    "    batch_size = 100\n",
    "    alpha, lr = 0.7, 1e-3\n",
    "    X, y = load_digits(return_X_y=True)\n",
    "    xtr, xte, ytr, yte = train_test_split(X, y, test_size=0.2)\n",
    "    \n",
    "    net.reset_velocity()\n",
    "    history = []\n",
    "    for epoch in range(1, 10001):\n",
    "        out  = net.forward(xtr)\n",
    "        loss = loss_func.forward(out, ytr)\n",
    "        \n",
    "        delta = loss_func.backward()\n",
    "#         print(out.shape, delta.shape)\n",
    "        net.backward(delta)\n",
    "        net.gradient_descent(alpha, lr)\n",
    "        \n",
    "        out = net.forward(xte)\n",
    "        ypred = np.argmax(out, axis=1)\n",
    "        acc = (ypred==yte).sum() / len(yte)\n",
    "        \n",
    "        history.append(loss)\n",
    "        if epoch%500 == 0:\n",
    "            print(epoch, loss, acc)\n",
    "    return net, history\n",
    "net, history = train_net()\n",
    "plt.plot(history)"
   ]
  },
  {
   "cell_type": "code",
   "execution_count": 6,
   "metadata": {},
   "outputs": [
    {
     "name": "stdout",
     "output_type": "stream",
     "text": [
      "layer 0 act=relu\n",
      "layer 1 act=relu\n",
      "layer 2 act=relu\n",
      "layer 3 act=identity\n",
      "epoch 500 , loss 2.298, 6.94%\n",
      "epoch 1000 , loss 2.286, 11.67%\n",
      "epoch 1500 , loss 2.233, 19.72%\n",
      "epoch 2000 , loss 2.002, 26.94%\n",
      "epoch 2500 , loss 1.618, 28.06%\n",
      "epoch 3000 , loss 1.032, 67.50%\n",
      "epoch 3500 , loss 0.651, 78.33%\n",
      "epoch 4000 , loss 0.432, 86.67%\n",
      "epoch 4500 , loss 0.325, 89.44%\n",
      "epoch 5000 , loss 0.250, 91.94%\n",
      "epoch 5500 , loss 0.192, 92.78%\n",
      "epoch 6000 , loss 0.152, 93.61%\n",
      "epoch 6500 , loss 0.125, 93.89%\n",
      "epoch 7000 , loss 0.105, 93.89%\n",
      "epoch 7500 , loss 0.090, 93.89%\n",
      "epoch 8000 , loss 0.078, 93.89%\n",
      "epoch 8500 , loss 0.069, 94.17%\n",
      "epoch 9000 , loss 0.060, 94.44%\n",
      "epoch 9500 , loss 0.054, 94.44%\n",
      "epoch 10000 , loss 0.048, 94.44%\n"
     ]
    },
    {
     "data": {
      "text/plain": [
       "[<matplotlib.lines.Line2D at 0x1c0f9c6e3c8>]"
      ]
     },
     "execution_count": 6,
     "metadata": {},
     "output_type": "execute_result"
    },
    {
     "data": {
      "image/png": "[encoded data removed]",
      "text/plain": [
       "<Figure size 432x288 with 1 Axes>"
      ]
     },
     "metadata": {
      "needs_background": "light"
     },
     "output_type": "display_data"
    }
   ],
   "source": [
    "def train_net():\n",
    "    def build_net():\n",
    "        c = [64, 16, 16, 16, 10]\n",
    "        layers = []\n",
    "        for i in range(len(c)-1):\n",
    "            act = \"identity\" if i >= len(c)-2 else \"relu\"\n",
    "            print(f\"layer {i} act={act}\")\n",
    "            layer = LinearLayer(c[i], c[i+1], activation_func=act)\n",
    "            layers.append(layer)\n",
    "        net = NeuralNet(layers)\n",
    "        return net\n",
    "\n",
    "    net = build_net()\n",
    "    loss_func = CrossEntropyLossFromLogits()\n",
    "    batch_size = 100\n",
    "    alpha, lr = 0.7, 1e-3\n",
    "    X, y = load_digits(return_X_y=True)\n",
    "    xtr, xte, ytr, yte = train_test_split(X, y, test_size=0.2)\n",
    "    \n",
    "    net.reset_velocity()\n",
    "    history = []\n",
    "    for epoch in range(1, 10001):\n",
    "        out  = net.forward(xtr)\n",
    "        loss = loss_func.forward(out, ytr)\n",
    "        \n",
    "        delta = loss_func.backward()\n",
    "#         print(out.shape, delta.shape)\n",
    "        net.backward(delta)\n",
    "        net.gradient_descent(alpha, lr)\n",
    "        \n",
    "        out = net.forward(xte)\n",
    "        ypred = np.argmax(out, axis=1)\n",
    "        acc = (ypred==yte).sum() / len(yte)\n",
    "        \n",
    "        history.append(loss)\n",
    "        if epoch%500 == 0:\n",
    "            print(f\"epoch {epoch} , loss {loss:.3f}, {acc*100:.2f}%\")\n",
    "    return net, history\n",
    "net, history = train_net()\n",
    "plt.plot(history)"
   ]
  },
  {
   "cell_type": "code",
   "execution_count": 10,
   "metadata": {},
   "outputs": [
    {
     "data": {
      "image/png": "[encoded data removed]",
      "text/plain": [
       "<Figure size 504x504 with 1 Axes>"
      ]
     },
     "metadata": {
      "needs_background": "light"
     },
     "output_type": "display_data"
    }
   ],
   "source": [
    "X, y = load_digits(return_X_y=True)\n",
    "idx = 100\n",
    "plt.figure(figsize=(7,7))\n",
    "plt.imshow(X[idx].reshape((8,8)), cmap='gray')\n",
    "plt.title(f'label {y[idx]}')\n",
    "plt.show()"
   ]
  },
  {
   "cell_type": "code",
   "execution_count": 22,
   "metadata": {},
   "outputs": [
    {
     "name": "stdout",
     "output_type": "stream",
     "text": [
      "label 8 prediction [8]\n"
     ]
    }
   ],
   "source": [
    "def predict(net, x):\n",
    "    y = net.forward(x)\n",
    "    return np.argmax(y, axis=1)\n",
    "\n",
    "idx = 500\n",
    "ypred=predict(net, X[idx])\n",
    "ytrue=y[idx]\n",
    "print(f'label {ytrue} prediction {ypred}')"
   ]
  },
  {
   "cell_type": "code",
   "execution_count": 19,
   "metadata": {},
   "outputs": [],
   "source": [
    "ypred = predict(net, X)"
   ]
  },
  {
   "cell_type": "code",
   "execution_count": 21,
   "metadata": {},
   "outputs": [
    {
     "data": {
      "text/plain": [
       "0.9922092376182526"
      ]
     },
     "execution_count": 21,
     "metadata": {},
     "output_type": "execute_result"
    }
   ],
   "source": [
    "(ypred == y).sum() / len(y)"
   ]
  },
  {
   "cell_type": "code",
   "execution_count": null,
   "metadata": {},
   "outputs": [],
   "source": []
  }
 ],
 "metadata": {
  "kernelspec": {
   "display_name": "Python 3",
   "language": "python",
   "name": "python3"
  },
  "language_info": {
   "codemirror_mode": {
    "name": "ipython",
    "version": 3
   },
   "file_extension": ".py",
   "mimetype": "text/x-python",
   "name": "python",
   "nbconvert_exporter": "python",
   "pygments_lexer": "ipython3",
   "version": "3.7.7"
  }
 },
 "nbformat": 4,
 "nbformat_minor": 4
}
